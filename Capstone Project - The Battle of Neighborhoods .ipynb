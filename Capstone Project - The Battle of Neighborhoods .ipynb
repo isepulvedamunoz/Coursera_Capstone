{
    "cells": [
        {
            "cell_type": "markdown",
            "metadata": {},
            "source": "# Capstone Project - The Battle of Neighborhoods (Week 1)"
        },
        {
            "cell_type": "markdown",
            "metadata": {},
            "source": "## Introduction"
        },
        {
            "cell_type": "markdown",
            "metadata": {
                "collapsed": true
            },
            "source": "New York City's demographics show that it is a large and ethnically diverse metropolis. It is the largest city in the United States with a long history of international immigration. New York City was home to nearly 8.5 million people in 2014, accounting for over 40% of the population of New York State and a slightly lower percentage of the New York metropolitan area, home to approximately 23.6 million. Over the last decade the city has been growing faster than the region. The New York region continues to be by far the leading metropolitan gateway for legal immigrants admitted into the United States.\n\nThroughout its history, New York City has been a major point of entry for immigrants; the term \"melting pot\" was coined to describe densely populated immigrant neighborhoods on the Lower East Side. As many as 800 languages are spoken in New York, making it the most linguistically diverse city in the world. English remains the most widely spoken language, although there are areas in the outer boroughs in which up to 25% of people speak English as an alternate language, and/or have limited or no English language fluency. English is least spoken in neighborhoods such as Flushing, Sunset Park, and Corona.\n\nWith it's diverse culture , comes diverse food items. There are many resturants in New york City, each beloning to different categories like Chinese , Indian , French etc.\n\nSo as part of this project , we will list and visualize all major parts of New York City that has great indian resturants.\n\n\n\n\nData\n\n\nFor this project we need the following data :\n\nNew York City data that contains list Boroughs, Neighborhoods along with their latitude and longitude.\nData source : https://cocl.us/new_york_dataset\nDescription : This data set contains the required information. And we will use this data set to explore various neighborhoods of new york city.\nIndian resturants in each neighborhood of new york city.\nData source : Fousquare API\nDescription : By using this api we will get all the venues in each neighborhood. We can filter these venues to get only indian resturants.\nGeoSpace data\nData source : https://data.cityofnewyork.us/City-Government/Borough-Boundaries/tqmj-j8zm\nDescription : By using this geo space data we will get the New york Borough boundaries that will help us visualize choropleth map.\n\nApproach\n\nCollect the new york city data from https://cocl.us/new_york_dataset\nUsing FourSquare API we will find all venues for each neighborhood.\nFilter out all venues that are Indian Resturants.\nFind rating , tips and like count for each Indian Resturants using FourSquare API.\nUsing rating for each resturant , we will sort that data.\nVisualize the Ranking of neighborhoods using folium library(python)\n\nQuestions that can be asked using the above mentioned datasets\n\nWhat is best location in New York City for Indian Cuisine ?\nWhich areas have potential Indian Resturant Market ?\nWhich all areas lack Indian Resturants ?\nWhich is the best place to stay if I prefer Indian Cuisine ?\nAnalysis\n\n\nWe will import the required libraries for python.\n\npandas and numpy for handling data.\nrequest module for using FourSquare API.\ngeopy to get co-ordinates of City of New York.\nfolium to visualize the results on a map"
        },
        {
            "cell_type": "markdown",
            "metadata": {},
            "source": ""
        }
    ],
    "metadata": {
        "kernelspec": {
            "display_name": "Python 3.6",
            "language": "python",
            "name": "python3"
        },
        "language_info": {
            "codemirror_mode": {
                "name": "ipython",
                "version": 3
            },
            "file_extension": ".py",
            "mimetype": "text/x-python",
            "name": "python",
            "nbconvert_exporter": "python",
            "pygments_lexer": "ipython3",
            "version": "3.6.9"
        }
    },
    "nbformat": 4,
    "nbformat_minor": 1
}